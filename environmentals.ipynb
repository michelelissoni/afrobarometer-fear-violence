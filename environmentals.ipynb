{
 "cells": [
  {
   "cell_type": "markdown",
   "id": "9cbec215-88cb-488b-b1b8-fd1dea795ca4",
   "metadata": {},
   "source": [
    "This notebook creates TIFF images from the environmental products that you can use to create maps.\n",
    "\n",
    "You need Google Earth Engine to retrieve the temperature and vegetation images. These will be saved to your Google Drive, from where you can download them."
   ]
  },
  {
   "cell_type": "code",
   "execution_count": 1,
   "id": "b41bccb8",
   "metadata": {},
   "outputs": [],
   "source": [
    "import ee\n",
    "import numpy as np\n",
    "import pandas as pd\n",
    "import geemap\n",
    "import geopandas as gpd\n",
    "import netCDF4\n",
    "from shapely.geometry import mapping\n",
    "from datetime import datetime, date, timedelta\n",
    "import rasterio\n",
    "from rasterio.transform import from_origin\n",
    "from rasterio.features import geometry_mask\n",
    "import time\n",
    "\n",
    "# Trigger the authentication flow.\n",
    "ee.Authenticate()\n",
    "\n",
    "# Initialize the library.\n",
    "ee.Initialize()\n",
    "\n",
    "countries_df = gpd.read_file('GIS/world_countries.shp')"
   ]
  },
  {
   "cell_type": "markdown",
   "id": "b18a5ef0-9942-42f1-86d0-00116ca81f52",
   "metadata": {},
   "source": [
    "Set the country you want to retrieve the images of (\"kenya\", \"nigeria\", \"ethiopia\" or \"southafrica\")."
   ]
  },
  {
   "cell_type": "code",
   "execution_count": 62,
   "id": "917033b9",
   "metadata": {},
   "outputs": [
    {
     "data": {
      "text/html": [
       "\n",
       "            <style>\n",
       "                .geemap-dark {\n",
       "                    --jp-widgets-color: white;\n",
       "                    --jp-widgets-label-color: white;\n",
       "                    --jp-ui-font-color1: white;\n",
       "                    --jp-layout-color2: #454545;\n",
       "                    background-color: #383838;\n",
       "                }\n",
       "                    \n",
       "                .geemap-dark .jupyter-button {\n",
       "                    --jp-layout-color3: #383838;\n",
       "                }\n",
       "                \n",
       "                .geemap-colab {\n",
       "                    background-color: var(--colab-primary-surface-color, white);\n",
       "                }\n",
       "                    \n",
       "                .geemap-colab .jupyter-button {\n",
       "                    --jp-layout-color3: var(--colab-primary-surface-color, white);\n",
       "                }\n",
       "            </style>\n",
       "            "
      ],
      "text/plain": [
       "<IPython.core.display.HTML object>"
      ]
     },
     "metadata": {},
     "output_type": "display_data"
    }
   ],
   "source": [
    "country='ethiopia'\n",
    "win_len=2\n",
    "\n",
    "country_codes={'kenya': 'KEN', 'nigeria': 'NIG', 'ethiopia': 'ETH', 'southafrica': 'SAF'}\n",
    "country_fips={'kenya': 'KE', 'nigeria': 'NI', 'ethiopia': 'ET', 'southafrica': 'SF'}\n",
    "country_years={'kenya': 2019, 'nigeria': 2020, 'ethiopia': 2019, 'southafrica': 2021}\n",
    "country_months={'kenya': 8, 'nigeria': 1, 'ethiopia': 12, 'southafrica': 4}\n",
    "country_names={'kenya': 'Kenya', 'nigeria': 'Nigeria', 'ethiopia': 'Ethiopia', 'southafrica': 'South Africa'}\n",
    "country_code=country_codes[country]\n",
    "country_fip=country_fips[country]\n",
    "country_year=country_years[country]\n",
    "country_month=country_months[country]\n",
    "country_name=country_names[country]\n",
    "month_start = (country_month % 12) + 1\n",
    "year_start = country_year - (country_month!=12) - (win_len-1)\n",
    "\n",
    "lta_start=2000\n",
    "\n",
    "dest_folder = 'Afrobarometer/'+country_code+'/'\n",
    "country_geometry = countries_df.loc[countries_df['COUNTRY']==country_name,:]['geometry'].to_crs(epsg=4326) \n",
    "\n",
    "country_ee = ee.FeatureCollection('USDOS/LSIB_SIMPLE/2017').filter(ee.Filter.eq('country_co',country_fip)).first()\n"
   ]
  },
  {
   "cell_type": "markdown",
   "id": "296e3198-491a-40b0-b57c-2f26242fed3b",
   "metadata": {},
   "source": [
    "Temperature"
   ]
  },
  {
   "cell_type": "code",
   "execution_count": 63,
   "id": "a243a5a3-cead-4d09-892c-c0d75e0a5f9d",
   "metadata": {},
   "outputs": [
    {
     "data": {
      "text/html": [
       "\n",
       "            <style>\n",
       "                .geemap-dark {\n",
       "                    --jp-widgets-color: white;\n",
       "                    --jp-widgets-label-color: white;\n",
       "                    --jp-ui-font-color1: white;\n",
       "                    --jp-layout-color2: #454545;\n",
       "                    background-color: #383838;\n",
       "                }\n",
       "                    \n",
       "                .geemap-dark .jupyter-button {\n",
       "                    --jp-layout-color3: #383838;\n",
       "                }\n",
       "                \n",
       "                .geemap-colab {\n",
       "                    background-color: var(--colab-primary-surface-color, white);\n",
       "                }\n",
       "                    \n",
       "                .geemap-colab .jupyter-button {\n",
       "                    --jp-layout-color3: var(--colab-primary-surface-color, white);\n",
       "                }\n",
       "            </style>\n",
       "            "
      ],
      "text/plain": [
       "<IPython.core.display.HTML object>"
      ]
     },
     "metadata": {},
     "output_type": "display_data"
    }
   ],
   "source": [
    "temp_dataset = ee.ImageCollection('MODIS/061/MOD11A1').select(['LST_Day_1km'])\n",
    "crs = temp_dataset.first().projection()\n",
    "resolution = crs.nominalScale().getInfo()\n",
    "\n",
    "first_date = datetime(year_start, month_start, 1, 0, 0)\n",
    "\n",
    "date_list = ee.List([datetime(year, month_start, 1, 0, 0).strftime('%Y-%m-%d') for year in range(lta_start,year_start+1)])\n",
    "\n",
    "#Map = folium.Map(location=[27.9506, -82.4572], zoom_start=8)# To see a google satellite view as a basemap\n",
    "#Map.setOptions('HYBRID')\n",
    "\n",
    "def year_mapper(date_str):\n",
    "    startDate = ee.Date(date_str)\n",
    "    endDate = startDate.advance(win_len, 'year')\n",
    "    yearlyCollection = temp_dataset.filterDate(startDate, endDate)\n",
    "\n",
    "    yearlyMean = yearlyCollection.mean();\n",
    "\n",
    "    yearProperties = {\n",
    "        'system:time_start': startDate.millis(),\n",
    "        'system:time_end': endDate.millis()\n",
    "    }\n",
    "\n",
    "    return yearlyMean.set(yearProperties) \n",
    "\n",
    "yearAverages = ee.ImageCollection.fromImages(date_list.map(year_mapper))\n",
    "\n",
    "ltaDate1 = ee.Date(date_list.get(0))\n",
    "ltaDate2 = ee.Date(date_list.reverse().get(0)).advance(-win_len+1, 'year')\n",
    "ltaAverages = yearAverages.filterDate(ltaDate1, ltaDate2)\n",
    "\n",
    "ltaMean = ltaAverages.mean()\n",
    "\n",
    "ltaStd = ltaAverages.reduce(ee.Reducer.stdDev())\n",
    "\n",
    "lastImg = yearAverages.sort('system:time_start',False).first()\n",
    "\n",
    "resImg = lastImg.subtract(ltaMean)\n",
    "anomImg = resImg.divide(ltaStd)\n",
    "\n",
    "anomImg_country = anomImg.clip(country_ee)\n",
    "\n",
    "task_config = {\n",
    "    'scale': resolution,  \n",
    "    'region': country_ee.geometry()\n",
    "    }\n",
    "\n",
    "if(country=='kenya'):\n",
    "    task_kenya_lst = ee.batch.Export.image(anomImg_country, country+'_LST_anoms', task_config)\n",
    "    task_kenya_lst.start()\n",
    "elif(country=='nigeria'):\n",
    "    task_nigeria_lst = ee.batch.Export.image(anomImg_country, country+'_LST_anoms', task_config)\n",
    "    task_nigeria_lst.start()\n",
    "elif(country=='southafrica'):\n",
    "    task_southafrica_lst = ee.batch.Export.image(anomImg_country, country+'_LST_anoms', task_config)\n",
    "    task_southafrica_lst.start()\n",
    "elif(country=='ethiopia'):\n",
    "    task_ethiopia_lst = ee.batch.Export.image(anomImg_country, country+'_LST_anoms', task_config)\n",
    "    task_ethiopia_lst.start()\n"
   ]
  },
  {
   "cell_type": "markdown",
   "id": "563c2860-2d54-4801-8065-7843556699dc",
   "metadata": {},
   "source": [
    "Vegetation"
   ]
  },
  {
   "cell_type": "code",
   "execution_count": 64,
   "id": "a1529cf4-645c-4b49-a36c-6c7bda2b7103",
   "metadata": {},
   "outputs": [
    {
     "data": {
      "text/html": [
       "\n",
       "            <style>\n",
       "                .geemap-dark {\n",
       "                    --jp-widgets-color: white;\n",
       "                    --jp-widgets-label-color: white;\n",
       "                    --jp-ui-font-color1: white;\n",
       "                    --jp-layout-color2: #454545;\n",
       "                    background-color: #383838;\n",
       "                }\n",
       "                    \n",
       "                .geemap-dark .jupyter-button {\n",
       "                    --jp-layout-color3: #383838;\n",
       "                }\n",
       "                \n",
       "                .geemap-colab {\n",
       "                    background-color: var(--colab-primary-surface-color, white);\n",
       "                }\n",
       "                    \n",
       "                .geemap-colab .jupyter-button {\n",
       "                    --jp-layout-color3: var(--colab-primary-surface-color, white);\n",
       "                }\n",
       "            </style>\n",
       "            "
      ],
      "text/plain": [
       "<IPython.core.display.HTML object>"
      ]
     },
     "metadata": {},
     "output_type": "display_data"
    }
   ],
   "source": [
    "ndvi_dataset = ee.ImageCollection(\"MODIS/061/MOD13Q1\").select(['NDVI'])\n",
    "crs = ndvi_dataset.first().projection()\n",
    "resolution = crs.nominalScale().getInfo()\n",
    "\n",
    "first_date = datetime(year_start, month_start, 1, 0, 0)\n",
    "\n",
    "date_list = ee.List([datetime(year, month_start, 1, 0, 0).strftime('%Y-%m-%d') for year in range(lta_start,year_start+1)])\n",
    "\n",
    "def year_mapper(date_str):\n",
    "    startDate = ee.Date(date_str)\n",
    "    endDate = startDate.advance(1, 'year')\n",
    "    yearlyCollection = ndvi_dataset.filterDate(startDate, endDate)\n",
    "\n",
    "    yearlyMean = yearlyCollection.mean();\n",
    "\n",
    "    yearProperties = {\n",
    "        'system:time_start': startDate.millis(),\n",
    "        'system:time_end': endDate.millis()\n",
    "    }\n",
    "\n",
    "    return yearlyMean.set(yearProperties) \n",
    "\n",
    "yearAverages = ee.ImageCollection.fromImages(date_list.map(year_mapper))\n",
    "\n",
    "ltaDate1 = ee.Date(date_list.get(0))\n",
    "ltaDate2 = ee.Date(date_list.reverse().get(0)).advance(-win_len+1, 'year')\n",
    "ltaAverages = yearAverages.filterDate(ltaDate1, ltaDate2)\n",
    "\n",
    "ltaMean = ltaAverages.mean()\n",
    "\n",
    "ltaStd = ltaAverages.reduce(ee.Reducer.stdDev())\n",
    "\n",
    "lastImg = yearAverages.sort('system:time_start',False).first()\n",
    "\n",
    "resImg = lastImg.subtract(ltaMean)\n",
    "anomImg = resImg.divide(ltaStd)\n",
    "anomImg_country = anomImg.clip(country_ee)\n",
    "\n",
    "task_config = {\n",
    "    'scale': resolution,  \n",
    "    'region': country_ee.geometry(),\n",
    "    'maxPixels': 200000000\n",
    "    }\n",
    "\n",
    "if(country=='kenya'):\n",
    "    task_kenya_ndvi = ee.batch.Export.image(anomImg_country, country+'_NDVI_anoms', task_config)\n",
    "    task_kenya_ndvi.start()\n",
    "elif(country=='nigeria'):\n",
    "    task_nigeria_ndvi = ee.batch.Export.image(anomImg_country, country+'_NDVI_anoms', task_config)\n",
    "    task_nigeria_ndvi.start()\n",
    "elif(country=='southafrica'):\n",
    "    task_southafrica_ndvi = ee.batch.Export.image(anomImg_country, country+'_NDVI_anoms', task_config)\n",
    "    task_southafrica_ndvi.start()\n",
    "elif(country=='ethiopia'):\n",
    "    task_ethiopia_ndvi = ee.batch.Export.image(anomImg_country, country+'_NDVI_anoms', task_config)\n",
    "    task_ethiopia_ndvi.start()\n"
   ]
  },
  {
   "cell_type": "markdown",
   "id": "4fec0c1b",
   "metadata": {},
   "source": [
    "Rainfall"
   ]
  },
  {
   "cell_type": "code",
   "execution_count": 65,
   "id": "384c3ab9",
   "metadata": {},
   "outputs": [
    {
     "data": {
      "text/html": [
       "\n",
       "            <style>\n",
       "                .geemap-dark {\n",
       "                    --jp-widgets-color: white;\n",
       "                    --jp-widgets-label-color: white;\n",
       "                    --jp-ui-font-color1: white;\n",
       "                    --jp-layout-color2: #454545;\n",
       "                    background-color: #383838;\n",
       "                }\n",
       "                    \n",
       "                .geemap-dark .jupyter-button {\n",
       "                    --jp-layout-color3: #383838;\n",
       "                }\n",
       "                \n",
       "                .geemap-colab {\n",
       "                    background-color: var(--colab-primary-surface-color, white);\n",
       "                }\n",
       "                    \n",
       "                .geemap-colab .jupyter-button {\n",
       "                    --jp-layout-color3: var(--colab-primary-surface-color, white);\n",
       "                }\n",
       "            </style>\n",
       "            "
      ],
      "text/plain": [
       "<IPython.core.display.HTML object>"
      ]
     },
     "metadata": {},
     "output_type": "display_data"
    },
    {
     "name": "stdout",
     "output_type": "stream",
     "text": [
      "74    POLYGON ((37.95210 14.83755, 37.95538 14.83652...\n",
      "Name: geometry, dtype: geometry\n"
     ]
    },
    {
     "name": "stderr",
     "output_type": "stream",
     "text": [
      "/home/mlissoni/.local/lib/python3.10/site-packages/numpy/core/_methods.py:173: RuntimeWarning: invalid value encountered in subtract\n",
      "  x = asanyarray(arr - arrmean)\n",
      "/tmp/ipykernel_23372/1922744105.py:36: RuntimeWarning: invalid value encountered in subtract\n",
      "  anom_raster = (afb_raster - mean_raster)/std_raster\n"
     ]
    }
   ],
   "source": [
    "nc_file_path='TAMSAT/'+country+'_rainfall.nc'\n",
    "\n",
    "nc = netCDF4.Dataset(nc_file_path, 'r')\n",
    "time_values = nc.variables['time'][:]\n",
    "year_values = np.array([date.fromtimestamp(time_value).year for time_value in time_values])\n",
    "month_values = np.array([date.fromtimestamp(time_value).month for time_value in time_values])\n",
    "\n",
    "lon = nc.variables['lon'][:]\n",
    "lat = nc.variables['lat'][:]\n",
    "pixel_size_x = abs(lon[1] - lon[0])\n",
    "pixel_size_y = abs(lat[1] - lat[0])\n",
    "\n",
    "upper_left_x = min(lon)\n",
    "upper_left_y = max(lat)\n",
    "\n",
    "transform = from_origin(upper_left_x, upper_left_y, pixel_size_x, pixel_size_y)\n",
    "\n",
    "data_values = np.array(nc.variables['rfe'][:])\n",
    "\n",
    "yearly_rasters = np.zeros((year_start+1-lta_start,len(lat),len(lon)))\n",
    "\n",
    "for year in range(lta_start,year_start+1):\n",
    "    \n",
    "    time_mask = np.flatnonzero(np.logical_and(month_values==month_start, year_values==year))[0]+np.arange(win_len*12,dtype=int)\n",
    "    \n",
    "    yearly_raster = np.sum(data_values[time_mask,:,:], axis=0)\n",
    "    \n",
    "    yearly_rasters[year-lta_start,:,:]=yearly_raster\n",
    "\n",
    "mean_raster = np.mean(yearly_rasters[:-win_len,:,:], axis=0)\n",
    "std_raster = np.std(yearly_rasters[:-win_len,:,:], axis=0)\n",
    "\n",
    "afb_raster = yearly_rasters[-1,:,:]\n",
    "\n",
    "anom_raster = (afb_raster - mean_raster)/std_raster\n",
    "\n",
    "poly_mask = geometry_mask(country_geometry, out_shape=(len(lat), len(lon)), transform=transform, invert=False)\n",
    "\n",
    "masked_data = np.ma.masked_array(anom_raster, poly_mask)\n",
    "\n",
    "\n",
    "with rasterio.open(\n",
    "    'Maps/'+country+'_rfe_anoms.tif',\n",
    "    \"w\",\n",
    "    driver=\"GTiff\",\n",
    "    width=masked_data.shape[1],\n",
    "    height=masked_data.shape[0],\n",
    "    count=1,\n",
    "    dtype=masked_data.dtype,\n",
    "    crs='EPSG:4326',\n",
    "    transform=transform,\n",
    "    nodata=np.nan\n",
    ") as dst:\n",
    "    dst.write(masked_data, indexes=1)"
   ]
  },
  {
   "cell_type": "markdown",
   "id": "bd5054bf-0e55-4204-a40f-096fd3df8f9d",
   "metadata": {},
   "source": [
    "The tasks on Google Earth Engine can take some time. Check their status here."
   ]
  },
  {
   "cell_type": "code",
   "execution_count": 70,
   "id": "1b1b24f2-53e6-43cf-98c5-aa207b8f2304",
   "metadata": {},
   "outputs": [
    {
     "data": {
      "text/html": [
       "\n",
       "            <style>\n",
       "                .geemap-dark {\n",
       "                    --jp-widgets-color: white;\n",
       "                    --jp-widgets-label-color: white;\n",
       "                    --jp-ui-font-color1: white;\n",
       "                    --jp-layout-color2: #454545;\n",
       "                    background-color: #383838;\n",
       "                }\n",
       "                    \n",
       "                .geemap-dark .jupyter-button {\n",
       "                    --jp-layout-color3: #383838;\n",
       "                }\n",
       "                \n",
       "                .geemap-colab {\n",
       "                    background-color: var(--colab-primary-surface-color, white);\n",
       "                }\n",
       "                    \n",
       "                .geemap-colab .jupyter-button {\n",
       "                    --jp-layout-color3: var(--colab-primary-surface-color, white);\n",
       "                }\n",
       "            </style>\n",
       "            "
      ],
      "text/plain": [
       "<IPython.core.display.HTML object>"
      ]
     },
     "metadata": {},
     "output_type": "display_data"
    },
    {
     "data": {
      "text/plain": [
       "{'state': 'RUNNING',\n",
       " 'description': 'kenya_LST_anoms',\n",
       " 'creation_timestamp_ms': 1710822026780,\n",
       " 'update_timestamp_ms': 1710822451374,\n",
       " 'start_timestamp_ms': 1710822031726,\n",
       " 'task_type': 'EXPORT_IMAGE',\n",
       " 'attempt': 1,\n",
       " 'id': 'F7R73ZLS4T4TUOT3X2SZVADB',\n",
       " 'name': 'projects/earthengine-legacy/operations/F7R73ZLS4T4TUOT3X2SZVADB'}"
      ]
     },
     "execution_count": 70,
     "metadata": {},
     "output_type": "execute_result"
    }
   ],
   "source": [
    "task_kenya_lst.status()"
   ]
  }
 ],
 "metadata": {
  "kernelspec": {
   "display_name": "Python 3 (ipykernel)",
   "language": "python",
   "name": "python3"
  },
  "language_info": {
   "codemirror_mode": {
    "name": "ipython",
    "version": 3
   },
   "file_extension": ".py",
   "mimetype": "text/x-python",
   "name": "python",
   "nbconvert_exporter": "python",
   "pygments_lexer": "ipython3",
   "version": "3.10.12"
  }
 },
 "nbformat": 4,
 "nbformat_minor": 5
}
